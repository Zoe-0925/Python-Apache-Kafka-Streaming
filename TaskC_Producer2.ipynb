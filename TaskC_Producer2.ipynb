{
 "cells": [
  {
   "cell_type": "code",
   "execution_count": null,
   "metadata": {
    "button": false,
    "new_sheet": false,
    "run_control": {
     "read_only": false
    }
   },
   "outputs": [
    {
     "name": "stdout",
     "output_type": "stream",
     "text": [
      "Publishing records..\n",
      "Message published successfully. {'latitude': -37.7212, 'longitude': 145.9754, 'confidence': 58.0, 'surface_temperature_celcius': 52.0, 'sender_id': 'producer2', 'created_time': '20:17:34'}\n",
      "Message published successfully. {'latitude': -37.3902, 'longitude': 148.2955, 'confidence': 100.0, 'surface_temperature_celcius': 98.0, 'sender_id': 'producer2', 'created_time': '20:17:46'}\n",
      "Message published successfully. {'latitude': -37.1603, 'longitude': 142.8088, 'confidence': 65.0, 'surface_temperature_celcius': 50.0, 'sender_id': 'producer2', 'created_time': '20:17:57'}\n",
      "Message published successfully. {'latitude': -37.4128, 'longitude': 147.0242, 'confidence': 85.0, 'surface_temperature_celcius': 98.0, 'sender_id': 'producer2', 'created_time': '20:18:25'}\n",
      "Message published successfully. {'latitude': -36.6329, 'longitude': 142.9903, 'confidence': 57.0, 'surface_temperature_celcius': 43.0, 'sender_id': 'producer2', 'created_time': '20:18:54'}\n",
      "Message published successfully. {'latitude': -36.3296, 'longitude': 141.7522, 'confidence': 63.0, 'surface_temperature_celcius': 41.0, 'sender_id': 'producer2', 'created_time': '20:19:04'}\n",
      "Message published successfully. {'latitude': -37.34, 'longitude': 143.123, 'confidence': 81.0, 'surface_temperature_celcius': 56.0, 'sender_id': 'producer2', 'created_time': '20:19:20'}\n"
     ]
    }
   ],
   "source": [
    "from time import sleep\n",
    "from json import dumps\n",
    "from kafka import KafkaProducer\n",
    "import random\n",
    "import datetime as dt\n",
    "import pandas as pd\n",
    "import numpy as np\n",
    "\n",
    "\n",
    " \n",
    "def publish_message(producer_instance, topic_name, data):\n",
    "    try:\n",
    "        producer_instance.send(topic_name, value=data)\n",
    "        print('Message published successfully. ' + str(data))\n",
    "    except Exception as ex:\n",
    "        print('Exception in publishing message.')\n",
    "        print(str(ex))\n",
    "        \n",
    "def connect_kafka_producer():\n",
    "    _producer = None\n",
    "    try:\n",
    "        _producer = KafkaProducer(bootstrap_servers=['127.0.0.1:9092'],\n",
    "                                  value_serializer=lambda x:dumps(x).encode('ascii'),\n",
    "                                  api_version=(0, 10))\n",
    "    except Exception as ex:\n",
    "        print('Exception while connecting Kafka.')\n",
    "        print(str(ex))\n",
    "    finally:\n",
    "        return _producer\n",
    "    \n",
    "if __name__ == '__main__':\n",
    "   \n",
    "    topic = 'fire'\n",
    "    print('Publishing records..')\n",
    "    producer2 = connect_kafka_producer()\n",
    "    \n",
    "    for e in range(10000):\n",
    "        df = pd.read_csv(\"hotspot_AQUA_streaming.csv\")\n",
    "        df_random = dict(df.loc[np.random.choice(df.index)])\n",
    "        df_random['sender_id'] = 'producer2'\n",
    "        df_random['created_time'] = dt.datetime.now().strftime(\"%X\")\n",
    "        df_random['surface_temperature_celcius']=float(df_random['surface_temperature_celcius'])\n",
    "        data = df_random\n",
    "        publish_message(producer2, topic, data)\n",
    "        a = random.randint(10,30)\n",
    "        sleep(a)"
   ]
  },
  {
   "cell_type": "code",
   "execution_count": null,
   "metadata": {
    "button": false,
    "collapsed": true,
    "new_sheet": false,
    "run_control": {
     "read_only": false
    }
   },
   "outputs": [],
   "source": []
  }
 ],
 "metadata": {
  "kernelspec": {
   "display_name": "Python 3",
   "language": "python",
   "name": "python3"
  },
  "language_info": {
   "codemirror_mode": {
    "name": "ipython",
    "version": 3
   },
   "file_extension": ".py",
   "mimetype": "text/x-python",
   "name": "python",
   "nbconvert_exporter": "python",
   "pygments_lexer": "ipython3",
   "version": "3.7.3"
  }
 },
 "nbformat": 4,
 "nbformat_minor": 2
}
